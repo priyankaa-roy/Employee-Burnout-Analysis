{
 "cells": [
  {
   "cell_type": "code",
   "execution_count": 8,
   "id": "84cd6a9d",
   "metadata": {},
   "outputs": [
    {
     "data": {
      "text/html": [
       "<div>\n",
       "<style scoped>\n",
       "    .dataframe tbody tr th:only-of-type {\n",
       "        vertical-align: middle;\n",
       "    }\n",
       "\n",
       "    .dataframe tbody tr th {\n",
       "        vertical-align: top;\n",
       "    }\n",
       "\n",
       "    .dataframe thead th {\n",
       "        text-align: right;\n",
       "    }\n",
       "</style>\n",
       "<table border=\"1\" class=\"dataframe\">\n",
       "  <thead>\n",
       "    <tr style=\"text-align: right;\">\n",
       "      <th></th>\n",
       "      <th>Employee ID</th>\n",
       "      <th>Date of Joining</th>\n",
       "      <th>Gender</th>\n",
       "      <th>Company Type</th>\n",
       "      <th>WFH Setup Available</th>\n",
       "      <th>Designation</th>\n",
       "      <th>Resource Allocation</th>\n",
       "      <th>Mental Fatigue Score</th>\n",
       "      <th>Burn Rate</th>\n",
       "    </tr>\n",
       "  </thead>\n",
       "  <tbody>\n",
       "    <tr>\n",
       "      <th>0</th>\n",
       "      <td>fffe32003000360033003200</td>\n",
       "      <td>30-09-2008</td>\n",
       "      <td>Female</td>\n",
       "      <td>Service</td>\n",
       "      <td>No</td>\n",
       "      <td>2</td>\n",
       "      <td>3.0</td>\n",
       "      <td>3.8</td>\n",
       "      <td>0.16</td>\n",
       "    </tr>\n",
       "    <tr>\n",
       "      <th>1</th>\n",
       "      <td>fffe3700360033003500</td>\n",
       "      <td>30-11-2008</td>\n",
       "      <td>Male</td>\n",
       "      <td>Service</td>\n",
       "      <td>Yes</td>\n",
       "      <td>1</td>\n",
       "      <td>2.0</td>\n",
       "      <td>5.0</td>\n",
       "      <td>0.36</td>\n",
       "    </tr>\n",
       "    <tr>\n",
       "      <th>2</th>\n",
       "      <td>fffe31003300320037003900</td>\n",
       "      <td>10-03-2008</td>\n",
       "      <td>Female</td>\n",
       "      <td>Product</td>\n",
       "      <td>Yes</td>\n",
       "      <td>2</td>\n",
       "      <td>NaN</td>\n",
       "      <td>5.8</td>\n",
       "      <td>0.49</td>\n",
       "    </tr>\n",
       "    <tr>\n",
       "      <th>3</th>\n",
       "      <td>fffe32003400380032003900</td>\n",
       "      <td>03-11-2008</td>\n",
       "      <td>Male</td>\n",
       "      <td>Service</td>\n",
       "      <td>Yes</td>\n",
       "      <td>1</td>\n",
       "      <td>1.0</td>\n",
       "      <td>2.6</td>\n",
       "      <td>0.20</td>\n",
       "    </tr>\n",
       "    <tr>\n",
       "      <th>4</th>\n",
       "      <td>fffe31003900340031003600</td>\n",
       "      <td>24-07-2008</td>\n",
       "      <td>Female</td>\n",
       "      <td>Service</td>\n",
       "      <td>No</td>\n",
       "      <td>3</td>\n",
       "      <td>7.0</td>\n",
       "      <td>6.9</td>\n",
       "      <td>0.52</td>\n",
       "    </tr>\n",
       "    <tr>\n",
       "      <th>...</th>\n",
       "      <td>...</td>\n",
       "      <td>...</td>\n",
       "      <td>...</td>\n",
       "      <td>...</td>\n",
       "      <td>...</td>\n",
       "      <td>...</td>\n",
       "      <td>...</td>\n",
       "      <td>...</td>\n",
       "      <td>...</td>\n",
       "    </tr>\n",
       "    <tr>\n",
       "      <th>22745</th>\n",
       "      <td>fffe31003500370039003100</td>\n",
       "      <td>30-12-2008</td>\n",
       "      <td>Female</td>\n",
       "      <td>Service</td>\n",
       "      <td>No</td>\n",
       "      <td>1</td>\n",
       "      <td>3.0</td>\n",
       "      <td>NaN</td>\n",
       "      <td>0.41</td>\n",
       "    </tr>\n",
       "    <tr>\n",
       "      <th>22746</th>\n",
       "      <td>fffe33003000350031003800</td>\n",
       "      <td>19-01-2008</td>\n",
       "      <td>Female</td>\n",
       "      <td>Product</td>\n",
       "      <td>Yes</td>\n",
       "      <td>3</td>\n",
       "      <td>6.0</td>\n",
       "      <td>6.7</td>\n",
       "      <td>0.59</td>\n",
       "    </tr>\n",
       "    <tr>\n",
       "      <th>22747</th>\n",
       "      <td>fffe390032003000</td>\n",
       "      <td>05-11-2008</td>\n",
       "      <td>Male</td>\n",
       "      <td>Service</td>\n",
       "      <td>Yes</td>\n",
       "      <td>3</td>\n",
       "      <td>7.0</td>\n",
       "      <td>NaN</td>\n",
       "      <td>0.72</td>\n",
       "    </tr>\n",
       "    <tr>\n",
       "      <th>22748</th>\n",
       "      <td>fffe33003300320036003900</td>\n",
       "      <td>10-01-2008</td>\n",
       "      <td>Female</td>\n",
       "      <td>Service</td>\n",
       "      <td>No</td>\n",
       "      <td>2</td>\n",
       "      <td>5.0</td>\n",
       "      <td>5.9</td>\n",
       "      <td>0.52</td>\n",
       "    </tr>\n",
       "    <tr>\n",
       "      <th>22749</th>\n",
       "      <td>fffe3400350031003800</td>\n",
       "      <td>06-01-2008</td>\n",
       "      <td>Male</td>\n",
       "      <td>Product</td>\n",
       "      <td>No</td>\n",
       "      <td>3</td>\n",
       "      <td>6.0</td>\n",
       "      <td>7.8</td>\n",
       "      <td>0.61</td>\n",
       "    </tr>\n",
       "  </tbody>\n",
       "</table>\n",
       "<p>22750 rows × 9 columns</p>\n",
       "</div>"
      ],
      "text/plain": [
       "                    Employee ID Date of Joining  Gender Company Type  \\\n",
       "0      fffe32003000360033003200      30-09-2008  Female      Service   \n",
       "1          fffe3700360033003500      30-11-2008    Male      Service   \n",
       "2      fffe31003300320037003900      10-03-2008  Female      Product   \n",
       "3      fffe32003400380032003900      03-11-2008    Male      Service   \n",
       "4      fffe31003900340031003600      24-07-2008  Female      Service   \n",
       "...                         ...             ...     ...          ...   \n",
       "22745  fffe31003500370039003100      30-12-2008  Female      Service   \n",
       "22746  fffe33003000350031003800      19-01-2008  Female      Product   \n",
       "22747          fffe390032003000      05-11-2008    Male      Service   \n",
       "22748  fffe33003300320036003900      10-01-2008  Female      Service   \n",
       "22749      fffe3400350031003800      06-01-2008    Male      Product   \n",
       "\n",
       "      WFH Setup Available  Designation  Resource Allocation  \\\n",
       "0                      No            2                  3.0   \n",
       "1                     Yes            1                  2.0   \n",
       "2                     Yes            2                  NaN   \n",
       "3                     Yes            1                  1.0   \n",
       "4                      No            3                  7.0   \n",
       "...                   ...          ...                  ...   \n",
       "22745                  No            1                  3.0   \n",
       "22746                 Yes            3                  6.0   \n",
       "22747                 Yes            3                  7.0   \n",
       "22748                  No            2                  5.0   \n",
       "22749                  No            3                  6.0   \n",
       "\n",
       "       Mental Fatigue Score  Burn Rate  \n",
       "0                       3.8       0.16  \n",
       "1                       5.0       0.36  \n",
       "2                       5.8       0.49  \n",
       "3                       2.6       0.20  \n",
       "4                       6.9       0.52  \n",
       "...                     ...        ...  \n",
       "22745                   NaN       0.41  \n",
       "22746                   6.7       0.59  \n",
       "22747                   NaN       0.72  \n",
       "22748                   5.9       0.52  \n",
       "22749                   7.8       0.61  \n",
       "\n",
       "[22750 rows x 9 columns]"
      ]
     },
     "execution_count": 8,
     "metadata": {},
     "output_type": "execute_result"
    }
   ],
   "source": [
    "import pandas as pd\n",
    "\n",
    "# Load the dataset\n",
    "data = pd.read_csv('employee_burnout_analysis-AI 2.csv')  # Adjust the path accordingly\n",
    "data"
   ]
  },
  {
   "cell_type": "markdown",
   "id": "c3a5f474",
   "metadata": {},
   "source": [
    "###  Inspect the Data"
   ]
  },
  {
   "cell_type": "code",
   "execution_count": 10,
   "id": "80adf141",
   "metadata": {},
   "outputs": [
    {
     "name": "stdout",
     "output_type": "stream",
     "text": [
      "<class 'pandas.core.frame.DataFrame'>\n",
      "RangeIndex: 22750 entries, 0 to 22749\n",
      "Data columns (total 9 columns):\n",
      " #   Column                Non-Null Count  Dtype  \n",
      "---  ------                --------------  -----  \n",
      " 0   Employee ID           22750 non-null  object \n",
      " 1   Date of Joining       22750 non-null  object \n",
      " 2   Gender                22750 non-null  object \n",
      " 3   Company Type          22750 non-null  object \n",
      " 4   WFH Setup Available   22750 non-null  object \n",
      " 5   Designation           22750 non-null  int64  \n",
      " 6   Resource Allocation   21369 non-null  float64\n",
      " 7   Mental Fatigue Score  20633 non-null  float64\n",
      " 8   Burn Rate             21626 non-null  float64\n",
      "dtypes: float64(3), int64(1), object(5)\n",
      "memory usage: 1.6+ MB\n",
      "None\n",
      "        Designation  Resource Allocation  Mental Fatigue Score     Burn Rate\n",
      "count  22750.000000         21369.000000          20633.000000  21626.000000\n",
      "mean       2.178725             4.481398              5.728188      0.452005\n",
      "std        1.135145             2.047211              1.920839      0.198226\n",
      "min        0.000000             1.000000              0.000000      0.000000\n",
      "25%        1.000000             3.000000              4.600000      0.310000\n",
      "50%        2.000000             4.000000              5.900000      0.450000\n",
      "75%        3.000000             6.000000              7.100000      0.590000\n",
      "max        5.000000            10.000000             10.000000      1.000000\n"
     ]
    }
   ],
   "source": [
    "print(data.info())\n",
    "print(data.describe())"
   ]
  },
  {
   "cell_type": "markdown",
   "id": "d05766eb",
   "metadata": {},
   "source": [
    "### Handle Missing Values"
   ]
  },
  {
   "cell_type": "code",
   "execution_count": 11,
   "id": "c6386480",
   "metadata": {},
   "outputs": [
    {
     "name": "stderr",
     "output_type": "stream",
     "text": [
      "C:\\Users\\Priyanka\\AppData\\Local\\Temp/ipykernel_46660/826330478.py:1: FutureWarning: Dropping of nuisance columns in DataFrame reductions (with 'numeric_only=None') is deprecated; in a future version this will raise TypeError.  Select only valid columns before calling the reduction.\n",
      "  data.fillna(data.mean(), inplace=True)  # For numerical columns\n"
     ]
    }
   ],
   "source": [
    "data.fillna(data.mean(), inplace=True)  # For numerical columns\n",
    "data.dropna(inplace=True)  # Drop rows with any missing value"
   ]
  },
  {
   "cell_type": "markdown",
   "id": "1130bafa",
   "metadata": {},
   "source": [
    "### Convert Data Types: \n",
    "Ensure that the data types are appropriate for analysis. For example, convert 'Date of Joining' to datetime format."
   ]
  },
  {
   "cell_type": "code",
   "execution_count": 12,
   "id": "61a861c0",
   "metadata": {},
   "outputs": [],
   "source": [
    "data['Date of Joining'] = pd.to_datetime(data['Date of Joining'])"
   ]
  },
  {
   "cell_type": "markdown",
   "id": "da66c679",
   "metadata": {},
   "source": [
    "## Data Exploration\n",
    "\n",
    "#### Descriptive Statistics"
   ]
  },
  {
   "cell_type": "code",
   "execution_count": 13,
   "id": "475f85f5",
   "metadata": {},
   "outputs": [
    {
     "name": "stdout",
     "output_type": "stream",
     "text": [
      "        Designation  Resource Allocation  Mental Fatigue Score     Burn Rate\n",
      "count  22750.000000         22750.000000          22750.000000  22750.000000\n",
      "mean       2.178725             4.481398              5.728188      0.452005\n",
      "std        1.135145             1.984099              1.829281      0.193267\n",
      "min        0.000000             1.000000              0.000000      0.000000\n",
      "25%        1.000000             3.000000              4.700000      0.320000\n",
      "50%        2.000000             4.481398              5.728188      0.452005\n",
      "75%        3.000000             6.000000              6.900000      0.580000\n",
      "max        5.000000            10.000000             10.000000      1.000000\n"
     ]
    }
   ],
   "source": [
    "print(data.describe())"
   ]
  },
  {
   "cell_type": "markdown",
   "id": "4997d002",
   "metadata": {},
   "source": [
    "#### Grouping Data"
   ]
  },
  {
   "cell_type": "code",
   "execution_count": 14,
   "id": "e8047ef7",
   "metadata": {},
   "outputs": [
    {
     "name": "stdout",
     "output_type": "stream",
     "text": [
      "Gender  Company Type\n",
      "Female  Product         5.486045\n",
      "        Service         5.486029\n",
      "Male    Product         5.973983\n",
      "        Service         6.005148\n",
      "Name: Mental Fatigue Score, dtype: float64\n"
     ]
    }
   ],
   "source": [
    "grouped_data = data.groupby(['Gender', 'Company Type'])['Mental Fatigue Score'].mean()\n",
    "print(grouped_data)"
   ]
  },
  {
   "cell_type": "markdown",
   "id": "5fd196df",
   "metadata": {},
   "source": [
    "#### Frequency Counts"
   ]
  },
  {
   "cell_type": "code",
   "execution_count": 15,
   "id": "739d94cf",
   "metadata": {},
   "outputs": [
    {
     "name": "stdout",
     "output_type": "stream",
     "text": [
      "Female    11908\n",
      "Male      10842\n",
      "Name: Gender, dtype: int64\n",
      "Service    14833\n",
      "Product     7917\n",
      "Name: Company Type, dtype: int64\n"
     ]
    }
   ],
   "source": [
    "gender_counts = data['Gender'].value_counts()\n",
    "company_counts = data['Company Type'].value_counts()\n",
    "print(gender_counts)\n",
    "print(company_counts)"
   ]
  },
  {
   "cell_type": "markdown",
   "id": "92db213f",
   "metadata": {},
   "source": [
    "## Data Visualization\n",
    "\n",
    "#### Plotting Distributions\n",
    "\n",
    "##### Histograms for Continuous Variables:"
   ]
  },
  {
   "cell_type": "code",
   "execution_count": 16,
   "id": "0dbe1777",
   "metadata": {},
   "outputs": [
    {
     "data": {
      "image/png": "[encoded data removed]",
      "text/plain": [
       "<Figure size 432x288 with 1 Axes>"
      ]
     },
     "metadata": {
      "needs_background": "light"
     },
     "output_type": "display_data"
    }
   ],
   "source": [
    "import matplotlib.pyplot as plt\n",
    "\n",
    "plt.hist(data['Mental Fatigue Score'], bins=20)\n",
    "plt.title('Distribution of Mental Fatigue Scores')\n",
    "plt.xlabel('Mental Fatigue Score')\n",
    "plt.ylabel('Frequency')\n",
    "plt.show()"
   ]
  },
  {
   "cell_type": "markdown",
   "id": "40dbee3c",
   "metadata": {},
   "source": [
    "##### Bar Charts for Categorical Variables:"
   ]
  },
  {
   "cell_type": "code",
   "execution_count": 17,
   "id": "ee68e361",
   "metadata": {},
   "outputs": [
    {
     "data": {
      "image/png": "[encoded data removed]",
      "text/plain": [
       "<Figure size 432x288 with 1 Axes>"
      ]
     },
     "metadata": {
      "needs_background": "light"
     },
     "output_type": "display_data"
    }
   ],
   "source": [
    "data['Company Type'].value_counts().plot(kind='bar')\n",
    "plt.title('Employee Count by Company Type')\n",
    "plt.xlabel('Company Type')\n",
    "plt.ylabel('Number of Employees')\n",
    "plt.show()"
   ]
  },
  {
   "cell_type": "markdown",
   "id": "027a9949",
   "metadata": {},
   "source": [
    "#### Box Plots for Outlier Detection"
   ]
  },
  {
   "cell_type": "code",
   "execution_count": 18,
   "id": "fbbdbce1",
   "metadata": {},
   "outputs": [
    {
     "data": {
      "image/png": "[encoded data removed]",
      "text/plain": [
       "<Figure size 432x288 with 1 Axes>"
      ]
     },
     "metadata": {
      "needs_background": "light"
     },
     "output_type": "display_data"
    }
   ],
   "source": [
    "import seaborn as sns\n",
    "\n",
    "sns.boxplot(x='Company Type', y='Mental Fatigue Score', data=data)\n",
    "plt.title('Mental Fatigue Score by Company Type')\n",
    "plt.show()"
   ]
  },
  {
   "cell_type": "markdown",
   "id": "7bd22372",
   "metadata": {},
   "source": [
    "## Statistical Analysis\n",
    "\n",
    "#### Correlation Analysis"
   ]
  },
  {
   "cell_type": "code",
   "execution_count": 19,
   "id": "68f9e0d8",
   "metadata": {},
   "outputs": [
    {
     "data": {
      "image/png": "[encoded data removed]",
      "text/plain": [
       "<Figure size 432x288 with 2 Axes>"
      ]
     },
     "metadata": {
      "needs_background": "light"
     },
     "output_type": "display_data"
    }
   ],
   "source": [
    "correlation_matrix = data.corr()\n",
    "sns.heatmap(correlation_matrix, annot=True)\n",
    "plt.title('Correlation Matrix')\n",
    "plt.show()"
   ]
  },
  {
   "cell_type": "markdown",
   "id": "12129b4d",
   "metadata": {},
   "source": [
    "#### Hypothesis Testing"
   ]
  },
  {
   "cell_type": "code",
   "execution_count": 20,
   "id": "4af3dbed",
   "metadata": {},
   "outputs": [
    {
     "name": "stdout",
     "output_type": "stream",
     "text": [
      "T-statistic: 21.128887679132124, P-value: 3.786703386131882e-98\n"
     ]
    }
   ],
   "source": [
    "from scipy import stats\n",
    "\n",
    "male_scores = data[data['Gender'] == 'Male']['Mental Fatigue Score']\n",
    "female_scores = data[data['Gender'] == 'Female']['Mental Fatigue Score']\n",
    "\n",
    "t_stat, p_value = stats.ttest_ind(male_scores, female_scores)\n",
    "print(f'T-statistic: {t_stat}, P-value: {p_value}')"
   ]
  },
  {
   "cell_type": "markdown",
   "id": "75728723",
   "metadata": {},
   "source": [
    "##### Since the P-value is extremely small (much less than 0.05), we reject the null hypothesis. This means:\n",
    "There is a statistically significant difference in the average Mental Fatigue Scores between male and female employees. The high T-statistic and very small P-value indicate that the difference between the two groups is not due to random chance."
   ]
  }
 ],
 "metadata": {
  "kernelspec": {
   "display_name": "Python 3 (ipykernel)",
   "language": "python",
   "name": "python3"
  },
  "language_info": {
   "codemirror_mode": {
    "name": "ipython",
    "version": 3
   },
   "file_extension": ".py",
   "mimetype": "text/x-python",
   "name": "python",
   "nbconvert_exporter": "python",
   "pygments_lexer": "ipython3",
   "version": "3.9.7"
  }
 },
 "nbformat": 4,
 "nbformat_minor": 5
}
